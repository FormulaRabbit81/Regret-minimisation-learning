{
 "cells": [
  {
   "cell_type": "markdown",
   "metadata": {},
   "source": [
    "#### Usage Example "
   ]
  },
  {
   "cell_type": "code",
   "execution_count": 1,
   "metadata": {},
   "outputs": [],
   "source": [
    "from agents import *"
   ]
  },
  {
   "cell_type": "markdown",
   "metadata": {},
   "source": [
    "Set up the game with the amount of Soldiers and Battlefields:"
   ]
  },
  {
   "cell_type": "code",
   "execution_count": 22,
   "metadata": {},
   "outputs": [],
   "source": [
    "game = TwoPlayerBlottoGame(5,3)"
   ]
  },
  {
   "cell_type": "markdown",
   "metadata": {},
   "source": [
    "Create some Agents to test against each other:"
   ]
  },
  {
   "cell_type": "code",
   "execution_count": 23,
   "metadata": {},
   "outputs": [],
   "source": [
    "regret1 = RegretMatching()\n",
    "regret2 = RegretMatching()\n",
    "samp1 = Sampleaverage(0.1)\n",
    "Qlearner = ReinforementLearner(choice=\"eps\", epsilon=0.9, alpha=0.4, model=\"qlearn\")\n",
    "Cross = ReinforementLearner(epsilon=0.9, model=\"cross\", eta=0.2)"
   ]
  },
  {
   "cell_type": "markdown",
   "metadata": {},
   "source": [
    "Choose some agents to play each other and learn over a number of games:"
   ]
  },
  {
   "cell_type": "code",
   "execution_count": 26,
   "metadata": {},
   "outputs": [],
   "source": [
    "game.learn(regret1, regret2, 100000)"
   ]
  },
  {
   "cell_type": "code",
   "execution_count": 27,
   "metadata": {},
   "outputs": [],
   "source": [
    "game.learn(Qlearner, Cross, 10000)"
   ]
  },
  {
   "cell_type": "markdown",
   "metadata": {},
   "source": [
    "See what results each agent tended towards. The first columns show how many soldiers on each battlefield, and the last one shows a scaled vector of how much an agent \"liked\" that option:"
   ]
  },
  {
   "cell_type": "code",
   "execution_count": 28,
   "metadata": {},
   "outputs": [
    {
     "name": "stdout",
     "output_type": "stream",
     "text": [
      "[[0.         2.         3.         0.1076473 ]\n",
      " [0.         3.         2.         0.11874486]\n",
      " [1.         1.         3.         0.10639742]\n",
      " [1.         3.         1.         0.10854663]\n",
      " [2.         0.         3.         0.11837403]\n",
      " [2.         3.         0.         0.10910064]\n",
      " [3.         0.         2.         0.1009286 ]\n",
      " [3.         1.         1.         0.11964176]\n",
      " [3.         2.         0.         0.1103095 ]]\n"
     ]
    }
   ],
   "source": [
    "print(regret1.result)"
   ]
  },
  {
   "cell_type": "code",
   "execution_count": 15,
   "metadata": {},
   "outputs": [
    {
     "name": "stdout",
     "output_type": "stream",
     "text": [
      "[[0.         1.         4.         0.06666667]\n",
      " [0.         2.         3.         0.13333333]\n",
      " [0.         3.         2.         0.06666667]\n",
      " [1.         1.         3.         0.06666667]\n",
      " [1.         2.         2.         0.06666667]\n",
      " [2.         0.         3.         0.06666667]\n",
      " [2.         1.         2.         0.06666667]\n",
      " [2.         2.         1.         0.06666667]\n",
      " [2.         3.         0.         0.06666667]\n",
      " [3.         0.         2.         0.06666667]\n",
      " [3.         1.         1.         0.06666667]\n",
      " [3.         2.         0.         0.13333333]\n",
      " [4.         1.         0.         0.06666667]]\n"
     ]
    }
   ],
   "source": [
    "print(Qlearner.result)"
   ]
  },
  {
   "cell_type": "code",
   "execution_count": 14,
   "metadata": {},
   "outputs": [
    {
     "name": "stdout",
     "output_type": "stream",
     "text": [
      "[[2. 1. 2. 1.]]\n"
     ]
    }
   ],
   "source": [
    "print(Cross.result)"
   ]
  }
 ],
 "metadata": {
  "kernelspec": {
   "display_name": "base",
   "language": "python",
   "name": "python3"
  },
  "language_info": {
   "codemirror_mode": {
    "name": "ipython",
    "version": 3
   },
   "file_extension": ".py",
   "mimetype": "text/x-python",
   "name": "python",
   "nbconvert_exporter": "python",
   "pygments_lexer": "ipython3",
   "version": "3.8.8"
  }
 },
 "nbformat": 4,
 "nbformat_minor": 2
}
